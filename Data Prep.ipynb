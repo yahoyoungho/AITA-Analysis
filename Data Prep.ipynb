{
 "cells": [
  {
   "cell_type": "code",
   "execution_count": 2,
   "id": "boxed-delicious",
   "metadata": {},
   "outputs": [
    {
     "name": "stderr",
     "output_type": "stream",
     "text": [
      "[nltk_data] Downloading package stopwords to\n",
      "[nltk_data]     C:\\Users\\yahoy\\AppData\\Roaming\\nltk_data...\n",
      "[nltk_data]   Package stopwords is already up-to-date!\n",
      "[nltk_data] Downloading package punkt to\n",
      "[nltk_data]     C:\\Users\\yahoy\\AppData\\Roaming\\nltk_data...\n",
      "[nltk_data]   Package punkt is already up-to-date!\n"
     ]
    }
   ],
   "source": [
    "import praw\n",
    "import pandas as pd\n",
    "import numpy as np\n",
    "import os\n",
    "from tqdm.notebook import tqdm_notebook\n",
    "import psaw\n",
    "import sklearn as skl\n",
    "from sklearn import feature_extraction, pipeline\n",
    "import nltk\n",
    "from nltk.corpus import stopwords as nltk_stopwords\n",
    "nltk.download(\"stopwords\")\n",
    "nltk.download('punkt')\n",
    "\n",
    "import sys\n",
    "import unidecode\n",
    "import functools\n",
    "import spacy\n",
    "spacy.prefer_gpu() #enable gpu\n",
    "from word2number import w2n\n",
    "import matplotlib.pyplot as plt\n",
    "import seaborn as sns\n",
    "import string\n",
    "import re\n",
    "sns.set_theme(style = \"whitegrid\")\n",
    "pd.set_option(\"display.max_columns\",None)"
   ]
  },
  {
   "cell_type": "code",
   "execution_count": 429,
   "id": "copyrighted-surrey",
   "metadata": {},
   "outputs": [
    {
     "data": {
      "text/plain": [
       "\"My team includes Ted Ginn, Julian Edelman, and Josh Rosen. My team name is Ginn &amp; Jews. \\n\\nOne of my bosses, who is Jewish, says this is anti-Semitic. \\n\\nTry as I might, I just can't seem to wrap my head around that or how it is in any way derogatory.\\n\\nAm I the asshole?\""
      ]
     },
     "execution_count": 429,
     "metadata": {},
     "output_type": "execute_result"
    }
   ],
   "source": [
    "df_all[\"selftext\"][0]"
   ]
  },
  {
   "cell_type": "code",
   "execution_count": 128,
   "id": "suspended-python",
   "metadata": {},
   "outputs": [
    {
     "name": "stdout",
     "output_type": "stream",
     "text": [
      "shape of df ass: (4421, 33)\n",
      "shape of df not: (10000, 33)\n",
      "shape of df all: (16000, 33)\n",
      "shape of df ass after removing samples of deleted post: (4043, 33)\n",
      "shape of df not after removing samples of deleted post: (9409, 33)\n",
      "shape of df all after removing samples of deleted post: (13758, 33)\n",
      "shape of df all with submissions tagged as either not a a*hole or a* hole\n",
      "(6503, 33)\n"
     ]
    }
   ],
   "source": [
    "df_all = pd.read_csv(\"src/data/original_data/AITA_all.csv\")\n",
    "df_ass = pd.read_csv(\"src/data/original_data/AITA_ass.csv\")\n",
    "df_not = pd.read_csv(\"src/data/original_data/AITA_not.csv\")\n",
    "\n",
    "# check if df ass/not/all has deleted post if so remove\n",
    "print(\"shape of df ass: \"+str(df_ass.shape))\n",
    "print(\"shape of df not: \"+str(df_not.shape))\n",
    "print(\"shape of df all: \"+str(df_all.shape))\n",
    "\n",
    "print(\"shape of df ass after removing samples of deleted post: \"+str(df_ass[df_ass[\"selftext\"] != \"[deleted]\"].shape))\n",
    "print(\"shape of df not after removing samples of deleted post: \"+str(df_not[df_not[\"selftext\"] != \"[deleted]\"].shape))\n",
    "print(\"shape of df all after removing samples of deleted post: \"+str(df_all[df_all[\"selftext\"] != \"[deleted]\"].shape))\n",
    "\n",
    "# removing samples with no selftext (post is deleted)\n",
    "df_ass = df_ass[df_ass[\"selftext\"] != \"[deleted]\"]\n",
    "df_not = df_not[df_not[\"selftext\"] != \"[deleted]\"]\n",
    "df_all = df_all[df_all[\"selftext\"] != \"[deleted]\"]\n",
    "\n",
    "df_ass.reset_index(drop = True, inplace = True)\n",
    "df_not.reset_index(drop = True, inplace = True)\n",
    "df_all.reset_index(drop=True, inplace = True)\n",
    "\n",
    "\n",
    "# select samples from df_all that is either tagged as not a asshole or a asshole\n",
    "mask = (df_all[\"link_flair_css_class\"] == \"not\") | (df_all[\"link_flair_css_class\"] == \"ass\")\n",
    "df_all = df_all[mask]\n",
    "df_all.reset_index(drop = True, inplace = True)\n",
    "print(\"shape of df all with submissions tagged as either not a a*hole or a* hole\")\n",
    "print(df_all.shape)"
   ]
  },
  {
   "cell_type": "code",
   "execution_count": 549,
   "id": "mature-machinery",
   "metadata": {},
   "outputs": [
    {
     "name": "stdout",
     "output_type": "stream",
     "text": [
      "link_flair_css_class\n",
      "ass    4043\n",
      "not    9570\n",
      "Name: selftext, dtype: int64\n"
     ]
    },
    {
     "data": {
      "text/html": [
       "<div>\n",
       "<style scoped>\n",
       "    .dataframe tbody tr th:only-of-type {\n",
       "        vertical-align: middle;\n",
       "    }\n",
       "\n",
       "    .dataframe tbody tr th {\n",
       "        vertical-align: top;\n",
       "    }\n",
       "\n",
       "    .dataframe thead th {\n",
       "        text-align: right;\n",
       "    }\n",
       "</style>\n",
       "<table border=\"1\" class=\"dataframe\">\n",
       "  <thead>\n",
       "    <tr style=\"text-align: right;\">\n",
       "      <th></th>\n",
       "      <th>url</th>\n",
       "      <th>num_comments</th>\n",
       "      <th>score</th>\n",
       "      <th>title</th>\n",
       "      <th>selftext</th>\n",
       "      <th>id</th>\n",
       "      <th>over_18</th>\n",
       "      <th>link_flair_css_class</th>\n",
       "      <th>archived</th>\n",
       "      <th>permalink</th>\n",
       "    </tr>\n",
       "  </thead>\n",
       "  <tbody>\n",
       "    <tr>\n",
       "      <th>0</th>\n",
       "      <td>https://www.reddit.com/r/AmItheAsshole/comment...</td>\n",
       "      <td>33</td>\n",
       "      <td>12</td>\n",
       "      <td>AITA for my fantasy football league name?</td>\n",
       "      <td>My team includes Ted Ginn, Julian Edelman, and...</td>\n",
       "      <td>cum4ob</td>\n",
       "      <td>False</td>\n",
       "      <td>ass</td>\n",
       "      <td>False</td>\n",
       "      <td>/r/AmItheAsshole/comments/cum4ob/aita_for_my_f...</td>\n",
       "    </tr>\n",
       "    <tr>\n",
       "      <th>1</th>\n",
       "      <td>https://www.reddit.com/r/AmItheAsshole/comment...</td>\n",
       "      <td>6</td>\n",
       "      <td>2</td>\n",
       "      <td>AITA for not properly greeting my neighbor?</td>\n",
       "      <td>Basically i was getting ready to leave my pare...</td>\n",
       "      <td>cum6kj</td>\n",
       "      <td>False</td>\n",
       "      <td>not</td>\n",
       "      <td>False</td>\n",
       "      <td>/r/AmItheAsshole/comments/cum6kj/aita_for_not_...</td>\n",
       "    </tr>\n",
       "    <tr>\n",
       "      <th>2</th>\n",
       "      <td>https://www.reddit.com/r/AmItheAsshole/comment...</td>\n",
       "      <td>10</td>\n",
       "      <td>0</td>\n",
       "      <td>AITA For implying what my boyfriend did was st...</td>\n",
       "      <td>We were reading a similar post on here about a...</td>\n",
       "      <td>cum7pp</td>\n",
       "      <td>False</td>\n",
       "      <td>ass</td>\n",
       "      <td>False</td>\n",
       "      <td>/r/AmItheAsshole/comments/cum7pp/aita_for_impl...</td>\n",
       "    </tr>\n",
       "    <tr>\n",
       "      <th>3</th>\n",
       "      <td>https://www.reddit.com/r/AmItheAsshole/comment...</td>\n",
       "      <td>8</td>\n",
       "      <td>2</td>\n",
       "      <td>WIBTA if I don’t help people on the streets out</td>\n",
       "      <td>Ok so I love to help people, but sometimes idk...</td>\n",
       "      <td>cum9ae</td>\n",
       "      <td>False</td>\n",
       "      <td>not</td>\n",
       "      <td>False</td>\n",
       "      <td>/r/AmItheAsshole/comments/cum9ae/wibta_if_i_do...</td>\n",
       "    </tr>\n",
       "    <tr>\n",
       "      <th>4</th>\n",
       "      <td>https://www.reddit.com/r/AmItheAsshole/comment...</td>\n",
       "      <td>63</td>\n",
       "      <td>0</td>\n",
       "      <td>AITA For Reporting the Uber Driver</td>\n",
       "      <td>It's simple, my.mother and her friends went to...</td>\n",
       "      <td>cumasq</td>\n",
       "      <td>False</td>\n",
       "      <td>ass</td>\n",
       "      <td>False</td>\n",
       "      <td>/r/AmItheAsshole/comments/cumasq/aita_for_repo...</td>\n",
       "    </tr>\n",
       "  </tbody>\n",
       "</table>\n",
       "</div>"
      ],
      "text/plain": [
       "                                                 url  num_comments  score  \\\n",
       "0  https://www.reddit.com/r/AmItheAsshole/comment...            33     12   \n",
       "1  https://www.reddit.com/r/AmItheAsshole/comment...             6      2   \n",
       "2  https://www.reddit.com/r/AmItheAsshole/comment...            10      0   \n",
       "3  https://www.reddit.com/r/AmItheAsshole/comment...             8      2   \n",
       "4  https://www.reddit.com/r/AmItheAsshole/comment...            63      0   \n",
       "\n",
       "                                               title  \\\n",
       "0          AITA for my fantasy football league name?   \n",
       "1        AITA for not properly greeting my neighbor?   \n",
       "2  AITA For implying what my boyfriend did was st...   \n",
       "3    WIBTA if I don’t help people on the streets out   \n",
       "4                 AITA For Reporting the Uber Driver   \n",
       "\n",
       "                                            selftext      id  over_18  \\\n",
       "0  My team includes Ted Ginn, Julian Edelman, and...  cum4ob    False   \n",
       "1  Basically i was getting ready to leave my pare...  cum6kj    False   \n",
       "2  We were reading a similar post on here about a...  cum7pp    False   \n",
       "3  Ok so I love to help people, but sometimes idk...  cum9ae    False   \n",
       "4  It's simple, my.mother and her friends went to...  cumasq    False   \n",
       "\n",
       "  link_flair_css_class archived  \\\n",
       "0                  ass    False   \n",
       "1                  not    False   \n",
       "2                  ass    False   \n",
       "3                  not    False   \n",
       "4                  ass    False   \n",
       "\n",
       "                                           permalink  \n",
       "0  /r/AmItheAsshole/comments/cum4ob/aita_for_my_f...  \n",
       "1  /r/AmItheAsshole/comments/cum6kj/aita_for_not_...  \n",
       "2  /r/AmItheAsshole/comments/cum7pp/aita_for_impl...  \n",
       "3  /r/AmItheAsshole/comments/cum9ae/wibta_if_i_do...  \n",
       "4  /r/AmItheAsshole/comments/cumasq/aita_for_repo...  "
      ]
     },
     "execution_count": 549,
     "metadata": {},
     "output_type": "execute_result"
    }
   ],
   "source": [
    "# check if there are overlapping samples from df_all that is either in df_not or df_ass\n",
    "df_meta = pd.concat([df_all, df_not, df_ass], axis = 0)\n",
    "df_meta.reset_index(drop = True, inplace = True)\n",
    "\n",
    "# number of post grouped by flairs (ass, not)\n",
    "print(df_meta.drop_duplicates(ignore_index = False).groupby([\"link_flair_css_class\"]).count()[\"selftext\"])\n",
    "\n",
    "# update\n",
    "df_meta.drop_duplicates(ignore_index = True, inplace = True)\n",
    "\n",
    "\n",
    "# remove columns that are not needed\n",
    "cols_toremove = ['created_utc', 'subreddit', 'author', 'domain', 'ups','downs', 'saved' , 'from_kind', 'gilded', \n",
    "                 'from', 'stickied','retrieved_on','thumbnail', 'subreddit_id', 'hide_score','is_self',\n",
    "                 'from_id','name','author_flair_css_class', 'author_flair_text', 'quarantine', 'link_flair_text', 'distinguished']\n",
    "df_meta.drop(columns = cols_toremove, inplace = True)\n",
    "df_meta.head()"
   ]
  },
  {
   "cell_type": "code",
   "execution_count": null,
   "id": "monthly-coast",
   "metadata": {},
   "outputs": [],
   "source": []
  },
  {
   "cell_type": "markdown",
   "id": "mexican-gentleman",
   "metadata": {},
   "source": [
    "# EDA\n",
    "## word counts over all documents"
   ]
  },
  {
   "cell_type": "code",
   "execution_count": 573,
   "id": "working-recipe",
   "metadata": {},
   "outputs": [],
   "source": [
    "df_meta[\"wordcounts\"] = df_meta[\"selftext\"].apply(lambda x: x.replace(\"\\n\",\"\")).\\\n",
    "                    apply(lambda x: x.replace(\"&amp;#x200B;\",\"\")).\\\n",
    "                    apply(lambda x: x.replace(\"&amp;\", \"and\")).\\\n",
    "                    apply(lambda x: len(x.split(\" \")))"
   ]
  },
  {
   "cell_type": "code",
   "execution_count": 318,
   "id": "heavy-polyester",
   "metadata": {},
   "outputs": [
    {
     "data": {
      "image/png": "[encoded data removed]",
      "text/plain": [
       "<Figure size 432x288 with 1 Axes>"
      ]
     },
     "metadata": {
      "needs_background": "light"
     },
     "output_type": "display_data"
    }
   ],
   "source": [
    "word_counts_per_doc = []\n",
    "for selftxt in df_meta[\"selftext\"]:\n",
    "    selftxt = selftxt.replace(\"\\n\",\"\")\n",
    "    selftxt = selftxt.replace(\"&amp;#x200B;\",\"\")\n",
    "    selftxt = selftxt.replace(\"&amp;\", \"and\")\n",
    "    \n",
    "    word_counts_per_doc.append(len(selftxt.split(\" \")))\n",
    "\n",
    "plt.title(\"Histogram of word counts over all documents\")\n",
    "plt.hist(word_counts_per_doc, bins = 50, edgecolor = \"black\");\n",
    "plt.xlabel(\"Word Counts\")\n",
    "plt.ylabel(\"Frequency\");"
   ]
  },
  {
   "cell_type": "code",
   "execution_count": 574,
   "id": "ideal-protocol",
   "metadata": {},
   "outputs": [
    {
     "data": {
      "image/png": "[encoded data removed]",
      "text/plain": [
       "<Figure size 720x432 with 1 Axes>"
      ]
     },
     "metadata": {},
     "output_type": "display_data"
    }
   ],
   "source": [
    "fig = plt.figure(num=1, figsize = (10,6))\n",
    "sns.boxplot(data = word_counts_per_doc, orient = \"h\")\n",
    "plt.title(\"Distribution: Document word counts\")\n",
    "plt.ylabel(\"Word Counts\");"
   ]
  },
  {
   "cell_type": "code",
   "execution_count": 575,
   "id": "cultural-forty",
   "metadata": {},
   "outputs": [
    {
     "data": {
      "image/png": "[encoded data removed]",
      "text/plain": [
       "<Figure size 720x432 with 1 Axes>"
      ]
     },
     "metadata": {},
     "output_type": "display_data"
    }
   ],
   "source": [
    "fig = plt.figure(num=1, figsize = (10,6))\n",
    "plt.title(\"Violin plot of word counts\".title(), fontsize = 15)\n",
    "sns.violinplot( x = \"wordcounts\",y = \"link_flair_css_class\", data = df_meta, scale = \"count\", inner = \"quartile\", bw = 0.2);"
   ]
  },
  {
   "cell_type": "code",
   "execution_count": 576,
   "id": "quiet-annex",
   "metadata": {},
   "outputs": [
    {
     "data": {
      "image/png": "[encoded data removed]",
      "text/plain": [
       "<Figure size 432x288 with 1 Axes>"
      ]
     },
     "metadata": {},
     "output_type": "display_data"
    }
   ],
   "source": [
    "plt.title(\"Violin plot of word counts\".title(), fontsize= 15)\n",
    "sns.violinplot( x = \"num_comments\",y = \"link_flair_css_class\", data = df_meta, scale = \"count\", inner = \"quartile\");"
   ]
  },
  {
   "cell_type": "code",
   "execution_count": 373,
   "id": "downtown-protest",
   "metadata": {},
   "outputs": [
    {
     "data": {
      "image/png": "[encoded data removed]",
      "text/plain": [
       "<Figure size 432x288 with 1 Axes>"
      ]
     },
     "metadata": {},
     "output_type": "display_data"
    }
   ],
   "source": [
    "meta_copy = df_meta.copy()\n",
    "\n",
    "\n",
    "meta_copy[\"title length\"] = meta_copy[\"title\"].apply(lambda x: len(x.split(\" \")))\n",
    "plt.title(\"Violin plot of title length\".title(), fontsize = 15)\n",
    "\n",
    "sns.violinplot(data= meta_copy, x = \"title length\", y = \"link_flair_css_class\", scale = \"count\", inner= \"quartile\");"
   ]
  },
  {
   "cell_type": "markdown",
   "id": "hawaiian-tracker",
   "metadata": {},
   "source": [
    "## what stopwords are in nltk and spacy"
   ]
  },
  {
   "cell_type": "code",
   "execution_count": 577,
   "id": "minor-venue",
   "metadata": {},
   "outputs": [
    {
     "name": "stdout",
     "output_type": "stream",
     "text": [
      "{\"mustn't\", \"you'll\", 'didn', 'wasn', 's', 'couldn', 'ain', 'won', 'needn', \"it's\", 'isn', 'having', \"haven't\", \"shouldn't\", 'mightn', \"isn't\", \"weren't\", 'o', \"shan't\", \"doesn't\", 't', 'aren', \"you'd\", 'mustn', \"aren't\", \"hasn't\", 'hadn', \"you've\", 'm', 'shan', \"couldn't\", \"you're\", 'wouldn', 'don', \"that'll\", 'hasn', \"wouldn't\", \"needn't\", 'y', \"should've\", \"she's\", \"won't\", 've', 'theirs', 'll', 'ma', 'haven', 'weren', 'shouldn', \"didn't\", \"mightn't\", 'd', \"don't\", \"wasn't\", \"hadn't\", 'doesn'}\n",
      "\n",
      "{'beyond', 'something', 'show', 'unless', 'seemed', 'everything', 'together', '‘ll', '’re', 'many', 'always', \"'ll\", 'hereupon', 'someone', 'part', 'nothing', 'whose', 'please', '’m', 'two', 'whereupon', 'though', 'elsewhere', 'meanwhile', 'formerly', 'seem', 'others', 'without', '‘s', 'sometimes', 'make', 'another', 'whereafter', 'would', 'twenty', '‘d', 'although', 'last', 'everywhere', 'moreover', 'eleven', 'whoever', 'used', 'regarding', 'thus', 'never', \"'d\", 'yet', 'third', 'n‘t', '’ll', 'thence', 'could', 'none', 'much', 'even', 'forty', 'get', 'whether', 'top', 'latterly', 'eight', 'across', 'back', 'along', 'anything', \"n't\", 'else', 'former', 'empty', 'thereby', 'really', 'mine', 'whereby', 'among', 'become', 'give', 'one', 'everyone', 'least', 'becomes', 'thru', 'perhaps', 'cannot', 'around', 'still', 'well', 'n’t', 'due', 'beside', 'afterwards', 'next', 'seems', 'five', 'various', 'see', 'mostly', 'call', 'onto', 'nine', 'hereafter', 'must', 'sometime', 'whole', 'indeed', 'whenever', 'four', 'may', 'ca', 'whereas', 'besides', 'twelve', 'nowhere', 'hence', 'often', 'six', '’s', 'amongst', 'amount', 'name', 'except', 'quite', 'seeming', 'latter', 'wherein', 'via', 'therefore', 'hereby', 'whence', 'namely', 'nobody', 'take', 'keep', 'might', \"'m\", \"'s\", 'three', 'using', 'done', 'therein', 'per', 'towards', 'since', 'made', '‘re', 'enough', '‘m', 'also', 'throughout', 'becoming', 'thereupon', 'anyone', 'several', 'every', 'us', 'thereafter', 'side', 'anyhow', 'otherwise', 'neither', 'within', 'ever', '’d', 'somehow', 'almost', 'put', 'wherever', 'nevertheless', 'first', 'front', 'fifteen', 'hundred', 'ten', 'either', 'go', 'toward', 'sixty', 'anyway', 'rather', 'became', 'whither', 'already', 'whatever', 'bottom', 'full', '‘ve', \"'re\", \"'ve\", 'however', 'noone', '’ve', 'less', 'herein', 'upon', 'serious', 'behind', 'somewhere', 'anywhere', 'fifty', 'beforehand', 'alone', 'say', 'move'}\n"
     ]
    }
   ],
   "source": [
    "nltk_stop_words = nltk_stopwords.words(\"english\")\n",
    "spacy_stop_words = nlp.Defaults.stop_words\n",
    "print(set(nltk_stop_words) - spacy_stop_words) #only in nltk\n",
    "print()\n",
    "print( spacy_stop_words - set(nltk_stop_words))# only in spacy"
   ]
  },
  {
   "cell_type": "code",
   "execution_count": null,
   "id": "wound-manhattan",
   "metadata": {},
   "outputs": [],
   "source": []
  },
  {
   "cell_type": "code",
   "execution_count": 500,
   "id": "traditional-modem",
   "metadata": {},
   "outputs": [],
   "source": [
    "nlp = spacy.load(\"en_core_web_sm\")\n",
    "def pipeline_func(data, fns):\n",
    "    \"\"\"Pipeline function that applies all functions taken in to the data\n",
    "    data: string data\n",
    "    fns: list of functions\n",
    "    \n",
    "    ex: pipeline_func(data, [fn1, fn2, fn3])\n",
    "    \n",
    "    \"\"\"\n",
    "    \n",
    "    return functools.reduce(lambda a,x: x(a), fns, data)\n",
    "\n",
    "\n",
    "\n",
    "# prepare functions for pipeline\n",
    "# step 1: change string to lowercase\n",
    "def remove_newline(txt):\n",
    "    \"\"\"remove '/\\n'\"\"\"\n",
    "    return map(lambda x: x.replace(\"\\n\",\" \"), txt)\n",
    "def remove_trip_space(txt):\n",
    "    \"\"\"remove triple spaces to single\"\"\"\n",
    "    return map(lambda x: x.replace(\"   \",\" \"), txt)\n",
    "\n",
    "def remove_dub_space(txt):\n",
    "    \"\"\"remove double spaced made from remove_newline function\"\"\"\n",
    "    return map(lambda x: x.replace(\"  \",\" \"), txt)\n",
    "\n",
    "def remove_amphex(txt):\n",
    "    \"\"\"remove ''&amp;#x200b' \"\"\"\n",
    "    return map(lambda x: x.replace(\"&amp;#x200B\",\"\"), txt)\n",
    "def change_amp(txt):\n",
    "    \"\"\"remove '&amp;' \"\"\"\n",
    "    return map(lambda x: x.replace(\"&amp;\",\"and\"), txt)\n",
    "\n",
    "def to_lower(txt):\n",
    "    \"\"\"returns lower case text\"\"\"\n",
    "    return map(lambda x: x.lower(), txt)\n",
    "def remove_accented_char(txt):\n",
    "    \"\"\"remove accented characters from text e.g. cafe`\"\"\"\n",
    "    return map(lambda x: unidecode.unidecode(x), txt)\n",
    "\n",
    "def remove_punc(txt):\n",
    "    \"\"\"remove punctuations\"\"\"\n",
    "    return map(lambda x: re.sub(\"[\"+string.punctuation+\"]\", \"\", x), txt)"
   ]
  },
  {
   "cell_type": "code",
   "execution_count": 552,
   "id": "historical-transcript",
   "metadata": {},
   "outputs": [],
   "source": [
    "func_list = [remove_newline, remove_trip_space, remove_dub_space, remove_amphex,\n",
    "             change_amp, to_lower, remove_accented_char, remove_punc]\n",
    "df_meta[\"cleaned_txt_wo_punc\"] =[cleaned_txt for cleaned_txt in pipeline_func(df_meta[\"selftext\"].values, func_list)]\n",
    "\n",
    "func_list = [remove_newline, remove_trip_space, remove_dub_space, remove_amphex,\n",
    "             change_amp, to_lower, remove_accented_char]\n",
    "df_meta[\"cleaned_txt_w_punc\"] = [cleaned_txt for cleaned_txt in pipeline_func(df_meta[\"selftext\"].values,func_list)]"
   ]
  },
  {
   "cell_type": "code",
   "execution_count": 553,
   "id": "muslim-genetics",
   "metadata": {
    "scrolled": false
   },
   "outputs": [
    {
     "data": {
      "text/html": [
       "<div>\n",
       "<style scoped>\n",
       "    .dataframe tbody tr th:only-of-type {\n",
       "        vertical-align: middle;\n",
       "    }\n",
       "\n",
       "    .dataframe tbody tr th {\n",
       "        vertical-align: top;\n",
       "    }\n",
       "\n",
       "    .dataframe thead th {\n",
       "        text-align: right;\n",
       "    }\n",
       "</style>\n",
       "<table border=\"1\" class=\"dataframe\">\n",
       "  <thead>\n",
       "    <tr style=\"text-align: right;\">\n",
       "      <th></th>\n",
       "      <th>url</th>\n",
       "      <th>num_comments</th>\n",
       "      <th>score</th>\n",
       "      <th>title</th>\n",
       "      <th>selftext</th>\n",
       "      <th>id</th>\n",
       "      <th>over_18</th>\n",
       "      <th>link_flair_css_class</th>\n",
       "      <th>archived</th>\n",
       "      <th>permalink</th>\n",
       "      <th>cleaned_txt_wo_punc</th>\n",
       "      <th>cleaned_txt_w_punc</th>\n",
       "    </tr>\n",
       "  </thead>\n",
       "  <tbody>\n",
       "    <tr>\n",
       "      <th>0</th>\n",
       "      <td>https://www.reddit.com/r/AmItheAsshole/comment...</td>\n",
       "      <td>33</td>\n",
       "      <td>12</td>\n",
       "      <td>AITA for my fantasy football league name?</td>\n",
       "      <td>My team includes Ted Ginn, Julian Edelman, and...</td>\n",
       "      <td>cum4ob</td>\n",
       "      <td>False</td>\n",
       "      <td>ass</td>\n",
       "      <td>False</td>\n",
       "      <td>/r/AmItheAsshole/comments/cum4ob/aita_for_my_f...</td>\n",
       "      <td>my team includes ted ginn julian edelman and j...</td>\n",
       "      <td>my team includes ted ginn, julian edelman, and...</td>\n",
       "    </tr>\n",
       "    <tr>\n",
       "      <th>1</th>\n",
       "      <td>https://www.reddit.com/r/AmItheAsshole/comment...</td>\n",
       "      <td>6</td>\n",
       "      <td>2</td>\n",
       "      <td>AITA for not properly greeting my neighbor?</td>\n",
       "      <td>Basically i was getting ready to leave my pare...</td>\n",
       "      <td>cum6kj</td>\n",
       "      <td>False</td>\n",
       "      <td>not</td>\n",
       "      <td>False</td>\n",
       "      <td>/r/AmItheAsshole/comments/cum6kj/aita_for_not_...</td>\n",
       "      <td>basically i was getting ready to leave my pare...</td>\n",
       "      <td>basically i was getting ready to leave my pare...</td>\n",
       "    </tr>\n",
       "    <tr>\n",
       "      <th>2</th>\n",
       "      <td>https://www.reddit.com/r/AmItheAsshole/comment...</td>\n",
       "      <td>10</td>\n",
       "      <td>0</td>\n",
       "      <td>AITA For implying what my boyfriend did was st...</td>\n",
       "      <td>We were reading a similar post on here about a...</td>\n",
       "      <td>cum7pp</td>\n",
       "      <td>False</td>\n",
       "      <td>ass</td>\n",
       "      <td>False</td>\n",
       "      <td>/r/AmItheAsshole/comments/cum7pp/aita_for_impl...</td>\n",
       "      <td>we were reading a similar post on here about a...</td>\n",
       "      <td>we were reading a similar post on here about a...</td>\n",
       "    </tr>\n",
       "    <tr>\n",
       "      <th>3</th>\n",
       "      <td>https://www.reddit.com/r/AmItheAsshole/comment...</td>\n",
       "      <td>8</td>\n",
       "      <td>2</td>\n",
       "      <td>WIBTA if I don’t help people on the streets out</td>\n",
       "      <td>Ok so I love to help people, but sometimes idk...</td>\n",
       "      <td>cum9ae</td>\n",
       "      <td>False</td>\n",
       "      <td>not</td>\n",
       "      <td>False</td>\n",
       "      <td>/r/AmItheAsshole/comments/cum9ae/wibta_if_i_do...</td>\n",
       "      <td>ok so i love to help people but sometimes idk ...</td>\n",
       "      <td>ok so i love to help people, but sometimes idk...</td>\n",
       "    </tr>\n",
       "    <tr>\n",
       "      <th>4</th>\n",
       "      <td>https://www.reddit.com/r/AmItheAsshole/comment...</td>\n",
       "      <td>63</td>\n",
       "      <td>0</td>\n",
       "      <td>AITA For Reporting the Uber Driver</td>\n",
       "      <td>It's simple, my.mother and her friends went to...</td>\n",
       "      <td>cumasq</td>\n",
       "      <td>False</td>\n",
       "      <td>ass</td>\n",
       "      <td>False</td>\n",
       "      <td>/r/AmItheAsshole/comments/cumasq/aita_for_repo...</td>\n",
       "      <td>its simple mymother and her friends went to a ...</td>\n",
       "      <td>it's simple, my.mother and her friends went to...</td>\n",
       "    </tr>\n",
       "  </tbody>\n",
       "</table>\n",
       "</div>"
      ],
      "text/plain": [
       "                                                 url  num_comments  score  \\\n",
       "0  https://www.reddit.com/r/AmItheAsshole/comment...            33     12   \n",
       "1  https://www.reddit.com/r/AmItheAsshole/comment...             6      2   \n",
       "2  https://www.reddit.com/r/AmItheAsshole/comment...            10      0   \n",
       "3  https://www.reddit.com/r/AmItheAsshole/comment...             8      2   \n",
       "4  https://www.reddit.com/r/AmItheAsshole/comment...            63      0   \n",
       "\n",
       "                                               title  \\\n",
       "0          AITA for my fantasy football league name?   \n",
       "1        AITA for not properly greeting my neighbor?   \n",
       "2  AITA For implying what my boyfriend did was st...   \n",
       "3    WIBTA if I don’t help people on the streets out   \n",
       "4                 AITA For Reporting the Uber Driver   \n",
       "\n",
       "                                            selftext      id  over_18  \\\n",
       "0  My team includes Ted Ginn, Julian Edelman, and...  cum4ob    False   \n",
       "1  Basically i was getting ready to leave my pare...  cum6kj    False   \n",
       "2  We were reading a similar post on here about a...  cum7pp    False   \n",
       "3  Ok so I love to help people, but sometimes idk...  cum9ae    False   \n",
       "4  It's simple, my.mother and her friends went to...  cumasq    False   \n",
       "\n",
       "  link_flair_css_class archived  \\\n",
       "0                  ass    False   \n",
       "1                  not    False   \n",
       "2                  ass    False   \n",
       "3                  not    False   \n",
       "4                  ass    False   \n",
       "\n",
       "                                           permalink  \\\n",
       "0  /r/AmItheAsshole/comments/cum4ob/aita_for_my_f...   \n",
       "1  /r/AmItheAsshole/comments/cum6kj/aita_for_not_...   \n",
       "2  /r/AmItheAsshole/comments/cum7pp/aita_for_impl...   \n",
       "3  /r/AmItheAsshole/comments/cum9ae/wibta_if_i_do...   \n",
       "4  /r/AmItheAsshole/comments/cumasq/aita_for_repo...   \n",
       "\n",
       "                                 cleaned_txt_wo_punc  \\\n",
       "0  my team includes ted ginn julian edelman and j...   \n",
       "1  basically i was getting ready to leave my pare...   \n",
       "2  we were reading a similar post on here about a...   \n",
       "3  ok so i love to help people but sometimes idk ...   \n",
       "4  its simple mymother and her friends went to a ...   \n",
       "\n",
       "                                  cleaned_txt_w_punc  \n",
       "0  my team includes ted ginn, julian edelman, and...  \n",
       "1  basically i was getting ready to leave my pare...  \n",
       "2  we were reading a similar post on here about a...  \n",
       "3  ok so i love to help people, but sometimes idk...  \n",
       "4  it's simple, my.mother and her friends went to...  "
      ]
     },
     "execution_count": 553,
     "metadata": {},
     "output_type": "execute_result"
    }
   ],
   "source": [
    "df_meta.head()"
   ]
  },
  {
   "cell_type": "code",
   "execution_count": 579,
   "id": "earlier-jersey",
   "metadata": {},
   "outputs": [
    {
     "data": {
      "text/plain": [
       "My team includes Ted Ginn, Julian Edelman, and Josh Rosen. My team name is Ginn &amp; Jews. \n",
       "\n",
       "One of my bosses, who is Jewish, says this is anti-Semitic. \n",
       "\n",
       "Try as I might, I just can't seem to wrap my head around that or how it is in any way derogatory.\n",
       "\n",
       "Am I the asshole?"
      ]
     },
     "execution_count": 579,
     "metadata": {},
     "output_type": "execute_result"
    }
   ],
   "source": [
    "nlp(df_meta[\"selftext\"][0])"
   ]
  },
  {
   "cell_type": "code",
   "execution_count": null,
   "id": "stupid-miniature",
   "metadata": {},
   "outputs": [],
   "source": []
  },
  {
   "cell_type": "code",
   "execution_count": null,
   "id": "protected-packaging",
   "metadata": {},
   "outputs": [],
   "source": []
  },
  {
   "cell_type": "code",
   "execution_count": null,
   "id": "detailed-corrections",
   "metadata": {},
   "outputs": [],
   "source": []
  },
  {
   "cell_type": "code",
   "execution_count": null,
   "id": "perceived-occupation",
   "metadata": {},
   "outputs": [],
   "source": []
  },
  {
   "cell_type": "code",
   "execution_count": null,
   "id": "adjusted-fleece",
   "metadata": {},
   "outputs": [],
   "source": []
  },
  {
   "cell_type": "code",
   "execution_count": null,
   "id": "armed-pickup",
   "metadata": {},
   "outputs": [],
   "source": []
  },
  {
   "cell_type": "code",
   "execution_count": null,
   "id": "basic-logan",
   "metadata": {},
   "outputs": [],
   "source": []
  },
  {
   "cell_type": "code",
   "execution_count": null,
   "id": "upset-asian",
   "metadata": {},
   "outputs": [],
   "source": []
  },
  {
   "cell_type": "code",
   "execution_count": null,
   "id": "decent-renewal",
   "metadata": {},
   "outputs": [],
   "source": []
  },
  {
   "cell_type": "markdown",
   "id": "pretty-vessel",
   "metadata": {},
   "source": [
    "### remove stop words"
   ]
  },
  {
   "cell_type": "code",
   "execution_count": null,
   "id": "provincial-thinking",
   "metadata": {},
   "outputs": [],
   "source": []
  },
  {
   "cell_type": "code",
   "execution_count": 554,
   "id": "approved-viewer",
   "metadata": {},
   "outputs": [
    {
     "data": {
      "text/plain": [
       "'my team includes ted ginn julian edelman and josh rosen my team name is ginn and jews one of my bosses who is jewish says this is antisemitic try as i might i just cant seem to wrap my head around that or how it is in any way derogatory am i the asshole'"
      ]
     },
     "execution_count": 554,
     "metadata": {},
     "output_type": "execute_result"
    }
   ],
   "source": []
  },
  {
   "cell_type": "code",
   "execution_count": 560,
   "id": "smart-independence",
   "metadata": {},
   "outputs": [
    {
     "name": "stdout",
     "output_type": "stream",
     "text": [
      "team includes ted ginn julian edelman josh rosen team ginn jews bosses jewish says antisemitic try cant wrap head way derogatory asshole\n",
      "my team includes ted ginn julian edelman and josh rosen my team name is ginn and jews one of my bosses who is jewish says this is antisemitic try as i might i just cant seem to wrap my head around that or how it is in any way derogatory am i the asshole\n"
     ]
    }
   ],
   "source": [
    "spacy_sw = nlp.Defaults.stop_words\n",
    "nltk_sw = set(nltk.corpus.stopwords.words(\"english\"))\n",
    "meta_sw = spacy_sw | nltk_sw # merging stopwords from nltk and spacy\n",
    "\n",
    "def remove_stopwords(txt, sw = meta_sw):\n",
    "    \"\"\"returns a string after removing stopwords\"\"\"\n",
    "    words = tokenizer.tokenize(txt)\n",
    "    return \" \".join([word for word in words if not word in sw])\n",
    "\n",
    "doc_sw = nlp(remove_stopwords(df_meta[\"cleaned_txt_w_punc\"])) # doc w.o stop words\n",
    "doc = nlp(\" \".join(tokenized_txt)) # doc w stopwords\n",
    "print(doc_sw)\n",
    "print(doc)"
   ]
  },
  {
   "cell_type": "code",
   "execution_count": 569,
   "id": "unnecessary-confidence",
   "metadata": {},
   "outputs": [
    {
     "name": "stdout",
     "output_type": "stream",
     "text": [
      "Ted Ginn PERSON\n",
      "Julian Edelman PERSON\n",
      "Josh Rosen PERSON\n",
      "Ginn & ORG\n",
      "One CARDINAL\n",
      "Jewish NORP\n",
      "anti-Semitic NORP\n"
     ]
    }
   ],
   "source": [
    "for w in nlp(df_meta[\"selftext\"].values[0]).ents:\n",
    "    print(w.text, w.label_)"
   ]
  },
  {
   "cell_type": "code",
   "execution_count": 535,
   "id": "amber-integral",
   "metadata": {},
   "outputs": [],
   "source": [
    "doc_bin_wo_punc = spacy.tokens.DocBin() # docbins for doc w.o. punctuations and wo sw\n",
    "doc_bin_w_punc = spacy.tokens.DocBin() # docbins for doc w punctuations and wo sw\n",
    "\n",
    "doc_bin_wo_punc_sw = spacy.tokens.DocBin() # docbins for doc w.o. punctuations and w sw\n",
    "doc_bin_w_punc_sw = spacy.tokens.DocBin() # docbins for doc w punctuations and w sw\n",
    "\n",
    "\n",
    "doc = nlp(df_meta[\"cleaned_txt\"].values[0])\n"
   ]
  },
  {
   "cell_type": "code",
   "execution_count": 533,
   "id": "velvet-window",
   "metadata": {},
   "outputs": [
    {
     "name": "stdout",
     "output_type": "stream",
     "text": [
      "Ted Ginn PERSON\n",
      "Julian Edelman PERSON\n",
      "Josh Rosen PERSON\n",
      "Ginn & ORG\n",
      "One CARDINAL\n",
      "Jewish NORP\n",
      "anti-Semitic NORP\n"
     ]
    }
   ],
   "source": [
    "for token in nlp(df_meta[\"selftext\"].values[0]).ents:\n",
    "    print(token, token.label_)"
   ]
  },
  {
   "cell_type": "code",
   "execution_count": 534,
   "id": "amino-feature",
   "metadata": {
    "scrolled": false
   },
   "outputs": [
    {
     "data": {
      "text/plain": [
       "['my',\n",
       " 'team',\n",
       " 'includes',\n",
       " 'ted',\n",
       " 'ginn',\n",
       " 'julian',\n",
       " 'edelman',\n",
       " 'and',\n",
       " 'josh',\n",
       " 'rosen',\n",
       " 'my',\n",
       " 'team',\n",
       " 'name',\n",
       " 'is',\n",
       " 'ginn',\n",
       " 'and',\n",
       " 'jews',\n",
       " 'one',\n",
       " 'of',\n",
       " 'my',\n",
       " 'bosses',\n",
       " 'who',\n",
       " 'is',\n",
       " 'jewish',\n",
       " 'says',\n",
       " 'this',\n",
       " 'is',\n",
       " 'anti',\n",
       " 'semitic',\n",
       " 'try',\n",
       " 'as',\n",
       " 'i',\n",
       " 'might',\n",
       " 'i',\n",
       " 'just',\n",
       " 'can',\n",
       " 't',\n",
       " 'seem',\n",
       " 'to',\n",
       " 'wrap',\n",
       " 'my',\n",
       " 'head',\n",
       " 'around',\n",
       " 'that',\n",
       " 'or',\n",
       " 'how',\n",
       " 'it',\n",
       " 'is',\n",
       " 'in',\n",
       " 'any',\n",
       " 'way',\n",
       " 'derogatory',\n",
       " 'am',\n",
       " 'i',\n",
       " 'the',\n",
       " 'asshole']"
      ]
     },
     "execution_count": 534,
     "metadata": {},
     "output_type": "execute_result"
    }
   ],
   "source": [
    "new_words"
   ]
  },
  {
   "cell_type": "code",
   "execution_count": 490,
   "id": "injured-generic",
   "metadata": {},
   "outputs": [],
   "source": [
    "\n",
    "doc = nlp(piped_txt)\n",
    "new_words = tokenizer.tokenize(piped_txt)\n",
    "mytokens = [word.lemma_ if word.lemma_ != \"-PRON-\" else word.lower_ for word in doc]\n",
    "tokens = [w2n.word_to_num(token.text) if token.pos_ == 'NUM' else token for token in doc]"
   ]
  },
  {
   "cell_type": "code",
   "execution_count": 491,
   "id": "eight-dodge",
   "metadata": {
    "collapsed": true
   },
   "outputs": [
    {
     "data": {
      "text/plain": [
       "['my',\n",
       " 'team',\n",
       " 'includes',\n",
       " 'ted',\n",
       " 'ginn',\n",
       " 'julian',\n",
       " 'edelman',\n",
       " 'and',\n",
       " 'josh',\n",
       " 'rosen',\n",
       " 'my',\n",
       " 'team',\n",
       " 'name',\n",
       " 'is',\n",
       " 'ginn',\n",
       " 'and',\n",
       " 'jews',\n",
       " 'one',\n",
       " 'of',\n",
       " 'my',\n",
       " 'bosses',\n",
       " 'who',\n",
       " 'is',\n",
       " 'jewish',\n",
       " 'says',\n",
       " 'this',\n",
       " 'is',\n",
       " 'anti',\n",
       " 'semitic',\n",
       " 'try',\n",
       " 'as',\n",
       " 'i',\n",
       " 'might',\n",
       " 'i',\n",
       " 'just',\n",
       " 'can',\n",
       " 't',\n",
       " 'seem',\n",
       " 'to',\n",
       " 'wrap',\n",
       " 'my',\n",
       " 'head',\n",
       " 'around',\n",
       " 'that',\n",
       " 'or',\n",
       " 'how',\n",
       " 'it',\n",
       " 'is',\n",
       " 'in',\n",
       " 'any',\n",
       " 'way',\n",
       " 'derogatory',\n",
       " 'am',\n",
       " 'i',\n",
       " 'the',\n",
       " 'asshole']"
      ]
     },
     "execution_count": 491,
     "metadata": {},
     "output_type": "execute_result"
    }
   ],
   "source": [
    "new_words"
   ]
  },
  {
   "cell_type": "code",
   "execution_count": 489,
   "id": "whole-characterization",
   "metadata": {},
   "outputs": [
    {
     "data": {
      "text/plain": [
       "['team',\n",
       " 'includes',\n",
       " 'ted',\n",
       " 'ginn',\n",
       " 'julian',\n",
       " 'edelman',\n",
       " 'josh',\n",
       " 'rosen',\n",
       " 'team',\n",
       " 'ginn',\n",
       " 'jews',\n",
       " 'bosses',\n",
       " 'jewish',\n",
       " 'says',\n",
       " 'anti',\n",
       " 'semitic',\n",
       " 'try',\n",
       " 't',\n",
       " 'wrap',\n",
       " 'head',\n",
       " 'way',\n",
       " 'derogatory',\n",
       " 'asshole']"
      ]
     },
     "execution_count": 489,
     "metadata": {},
     "output_type": "execute_result"
    }
   ],
   "source": [
    "tokenized = nltk.tokenize.word_tokenize(piped_txt)\n",
    "tokens_wo_sw = [word for word in tokenized if not word in nlp.Defaults.stop_words]\n",
    "tokens_wo_sw"
   ]
  },
  {
   "cell_type": "code",
   "execution_count": null,
   "id": "raised-legislation",
   "metadata": {},
   "outputs": [],
   "source": []
  },
  {
   "cell_type": "code",
   "execution_count": null,
   "id": "dress-annual",
   "metadata": {},
   "outputs": [],
   "source": []
  },
  {
   "cell_type": "code",
   "execution_count": null,
   "id": "august-quick",
   "metadata": {},
   "outputs": [],
   "source": []
  },
  {
   "cell_type": "code",
   "execution_count": null,
   "id": "static-aircraft",
   "metadata": {},
   "outputs": [],
   "source": []
  },
  {
   "cell_type": "code",
   "execution_count": null,
   "id": "arctic-junction",
   "metadata": {},
   "outputs": [],
   "source": []
  },
  {
   "cell_type": "code",
   "execution_count": null,
   "id": "general-employee",
   "metadata": {},
   "outputs": [],
   "source": []
  },
  {
   "cell_type": "code",
   "execution_count": null,
   "id": "radical-couple",
   "metadata": {},
   "outputs": [],
   "source": []
  }
 ],
 "metadata": {
  "kernelspec": {
   "display_name": "Python 3",
   "language": "python",
   "name": "python3"
  },
  "language_info": {
   "codemirror_mode": {
    "name": "ipython",
    "version": 3
   },
   "file_extension": ".py",
   "mimetype": "text/x-python",
   "name": "python",
   "nbconvert_exporter": "python",
   "pygments_lexer": "ipython3",
   "version": "3.7.9"
  }
 },
 "nbformat": 4,
 "nbformat_minor": 5
}
