{
 "cells": [
  {
   "cell_type": "code",
   "execution_count": 99,
   "id": "boxed-delicious",
   "metadata": {},
   "outputs": [],
   "source": [
    "import praw\n",
    "import pandas as pd\n",
    "import numpy as np\n",
    "import os\n",
    "from tqdm.notebook import tqdm_notebook\n",
    "import psaw\n",
    "import sklearn as skl\n",
    "from sklearn import feature_extraction\n",
    "pd.set_option(\"display.max_columns\",None)"
   ]
  },
  {
   "cell_type": "code",
   "execution_count": 96,
   "id": "coral-federation",
   "metadata": {},
   "outputs": [
    {
     "name": "stdout",
     "output_type": "stream",
     "text": [
      "(16000, 33) (4421, 33) (10000, 33)\n"
     ]
    }
   ],
   "source": [
    "df_all = pd.read_csv(\"src/data/original_data/AITA_all.csv\")\n",
    "df_ass = pd.read_csv(\"src/data/original_data/AITA_ass.csv\")\n",
    "df_not = pd.read_csv(\"src/data/original_data/AITA_not.csv\")\n",
    "print(df_all.shape, df_ass.shape, df_not.shape)"
   ]
  },
  {
   "cell_type": "code",
   "execution_count": 108,
   "id": "frequent-bangkok",
   "metadata": {},
   "outputs": [
    {
     "data": {
      "text/plain": [
       "(378, 33)"
      ]
     },
     "execution_count": 108,
     "metadata": {},
     "output_type": "execute_result"
    }
   ],
   "source": [
    "df_ass[df_ass[\"selftext\"] == \"[deleted]\"].shape"
   ]
  },
  {
   "cell_type": "code",
   "execution_count": 97,
   "id": "successful-league",
   "metadata": {},
   "outputs": [
    {
     "data": {
      "text/plain": [
       "(13758, 33)"
      ]
     },
     "execution_count": 97,
     "metadata": {},
     "output_type": "execute_result"
    }
   ],
   "source": [
    "# removing samples with no selftext (post is deleted)\n",
    "df_all = df_all[df_all[\"selftext\"] != \"[deleted]\"]\n",
    "df_all.reset_index(drop=True, inplace = True)\n",
    "df_all.shape"
   ]
  },
  {
   "cell_type": "code",
   "execution_count": 98,
   "id": "particular-hybrid",
   "metadata": {},
   "outputs": [
    {
     "data": {
      "text/plain": [
       "(6503, 33)"
      ]
     },
     "execution_count": 98,
     "metadata": {},
     "output_type": "execute_result"
    }
   ],
   "source": [
    "# select samples from df_all that is either tagged as not a asshole or a asshole\n",
    "mask = (df_all[\"link_flair_css_class\"] == \"not\") | (df_all[\"link_flair_css_class\"] == \"ass\")\n",
    "df_all = df_all[mask]\n",
    "df_all.reset_index(drop = True, inplace = True)\n",
    "df_all.shape"
   ]
  },
  {
   "cell_type": "code",
   "execution_count": 100,
   "id": "hollow-eugene",
   "metadata": {},
   "outputs": [],
   "source": [
    "# preprocess text\n",
    "ass_selftext = df_ass[\"selftext\"].values\n",
    "not_selftext = df_not[\"selftext\"].values"
   ]
  },
  {
   "cell_type": "code",
   "execution_count": 103,
   "id": "unavailable-crest",
   "metadata": {},
   "outputs": [
    {
     "name": "stdout",
     "output_type": "stream",
     "text": [
      "For context, I did not kick them off the machine. I was waiting for the Calf Raise Machine where a woman was currently working in. Right before I go to approach her, to ask if I can rotate in, her friend tells her to look behind her because she can tell that I am waiting. I pose my question, \"Do you mind if I rotate in?\". The woman who was initially on the machine sternly says, \"No. Me and her are working out here.\" I told her, \"Alright, but do you mind if we rotate?\" Again, she says no with the same level of confidence only adding this time that they are \"Trying to get out of here.\" I was a little taken aback by this so I responded in kind, \"So am I.\" She refuses to let me rotate in the machine and this essentially starts a argument where she insists that I can't use the machine until she and her friend are done. I tell her that you can't just claim a machine and deny other people from using it, so I tell her that instead of all this arguing, I could have already used the machine. So, I straight up tell her, \"I'm going to use the machine.\" \n",
      "\n",
      "I feel like by offering the idea of us just rotating it should solve any issues, but she did not want to offer any leeway. I don't think it's right to hold a machine, which mind you, is easily adjustable. I understand that the gym can sometimes be a hostile place for women, but I did not tell them I'm outright taking the machine. I requested to rotate, but this woman was not having it. Hindsight is 20/20 and I could have asked how many sets they had left, but initially, this didn't pop into my head. \n",
      "\n",
      "Once I began my set, she started cursing me out, walking away, and continued by giving me the middle finger. When I left the gym to get on my bike, I can see her on her cell phone recording me and giving me the finger. I smiled and waved back. \n",
      "\n",
      "So, Reddit, was it wrong for me to essentially muscle my way into the machine despite being told no? Am I the asshole?\n"
     ]
    }
   ],
   "source": [
    "print(ass_selftext[0])"
   ]
  },
  {
   "cell_type": "code",
   "execution_count": null,
   "id": "judicial-amount",
   "metadata": {},
   "outputs": [],
   "source": []
  },
  {
   "cell_type": "code",
   "execution_count": null,
   "id": "magnetic-assault",
   "metadata": {},
   "outputs": [],
   "source": []
  },
  {
   "cell_type": "code",
   "execution_count": null,
   "id": "fitting-physics",
   "metadata": {},
   "outputs": [],
   "source": []
  },
  {
   "cell_type": "code",
   "execution_count": null,
   "id": "approximate-editor",
   "metadata": {},
   "outputs": [],
   "source": [
    "\n",
    "cv_ass = feature_extraction.text.CountVectorizer()\n",
    "cv_not = feature_extraction.text.CountVectorizer()"
   ]
  },
  {
   "cell_type": "code",
   "execution_count": null,
   "id": "alpine-journey",
   "metadata": {},
   "outputs": [],
   "source": []
  },
  {
   "cell_type": "code",
   "execution_count": null,
   "id": "viral-sharp",
   "metadata": {},
   "outputs": [],
   "source": []
  },
  {
   "cell_type": "code",
   "execution_count": null,
   "id": "average-winning",
   "metadata": {},
   "outputs": [],
   "source": []
  },
  {
   "cell_type": "code",
   "execution_count": null,
   "id": "productive-suicide",
   "metadata": {},
   "outputs": [],
   "source": []
  }
 ],
 "metadata": {
  "kernelspec": {
   "display_name": "Python 3",
   "language": "python",
   "name": "python3"
  },
  "language_info": {
   "codemirror_mode": {
    "name": "ipython",
    "version": 3
   },
   "file_extension": ".py",
   "mimetype": "text/x-python",
   "name": "python",
   "nbconvert_exporter": "python",
   "pygments_lexer": "ipython3",
   "version": "3.7.9"
  }
 },
 "nbformat": 4,
 "nbformat_minor": 5
}
